{
 "cells": [
  {
   "cell_type": "code",
   "execution_count": 16,
   "id": "92442c8a",
   "metadata": {},
   "outputs": [],
   "source": [
    "# Import the random module.\n",
    "import random\n",
    "import numpy as np\n",
    "import timeit"
   ]
  },
  {
   "cell_type": "code",
   "execution_count": 4,
   "id": "28a49662",
   "metadata": {},
   "outputs": [
    {
     "data": {
      "text/plain": [
       "-55"
      ]
     },
     "execution_count": 4,
     "metadata": {},
     "output_type": "execute_result"
    }
   ],
   "source": [
    "random.randint(-90,89)"
   ]
  },
  {
   "cell_type": "code",
   "execution_count": 5,
   "id": "09ab5dd9",
   "metadata": {},
   "outputs": [
    {
     "data": {
      "text/plain": [
       "0.040433029292752276"
      ]
     },
     "execution_count": 5,
     "metadata": {},
     "output_type": "execute_result"
    }
   ],
   "source": [
    "random.random()"
   ]
  },
  {
   "cell_type": "code",
   "execution_count": 7,
   "id": "d25a097b",
   "metadata": {},
   "outputs": [
    {
     "data": {
      "text/plain": [
       "-86.34726982983472"
      ]
     },
     "execution_count": 7,
     "metadata": {},
     "output_type": "execute_result"
    }
   ],
   "source": [
    "random_number = random.randint(-90,89) + random.random()\n",
    "random_number"
   ]
  },
  {
   "cell_type": "code",
   "execution_count": 8,
   "id": "05377d18",
   "metadata": {},
   "outputs": [],
   "source": [
    "x = 1\n",
    "latitudes = []\n",
    "\n",
    "while x < 11:\n",
    "    random_lat = random.randint(-90,89) + random.random()\n",
    "    latitudes.append(random_lat)\n",
    "    x += 1"
   ]
  },
  {
   "cell_type": "code",
   "execution_count": 10,
   "id": "3630dead",
   "metadata": {},
   "outputs": [
    {
     "data": {
      "text/plain": [
       "21"
      ]
     },
     "execution_count": 10,
     "metadata": {},
     "output_type": "execute_result"
    }
   ],
   "source": [
    "random.randrange(-90,90,step=3)"
   ]
  },
  {
   "cell_type": "code",
   "execution_count": 11,
   "id": "de441736",
   "metadata": {},
   "outputs": [
    {
     "data": {
      "text/plain": [
       "-55.38699787509641"
      ]
     },
     "execution_count": 11,
     "metadata": {},
     "output_type": "execute_result"
    }
   ],
   "source": [
    "random.uniform(-90,90)"
   ]
  },
  {
   "cell_type": "code",
   "execution_count": 13,
   "id": "a8d6cbf6",
   "metadata": {},
   "outputs": [
    {
     "data": {
      "text/plain": [
       "84.15394940753262"
      ]
     },
     "execution_count": 13,
     "metadata": {},
     "output_type": "execute_result"
    }
   ],
   "source": [
    "np.random.uniform(-90.000, 90.000)"
   ]
  },
  {
   "cell_type": "code",
   "execution_count": 14,
   "id": "f6b0e9d6",
   "metadata": {},
   "outputs": [
    {
     "data": {
      "text/plain": [
       "-50.62475784271931"
      ]
     },
     "execution_count": 14,
     "metadata": {},
     "output_type": "execute_result"
    }
   ],
   "source": [
    "np.random.uniform(low=-90, high=90)"
   ]
  },
  {
   "cell_type": "code",
   "execution_count": 15,
   "id": "4a7f7b3f",
   "metadata": {},
   "outputs": [
    {
     "data": {
      "text/plain": [
       "array([-8.34144599e+01, -4.37409389e+01,  6.70613163e-02,  7.00934242e+01,\n",
       "        1.61471278e+01,  8.76042864e+01, -4.15813255e+01, -8.26992080e+01,\n",
       "        2.14327940e+01,  6.69397335e+01,  8.84503224e+01, -7.49190824e+01,\n",
       "       -3.07013091e+01, -8.52796233e+01, -2.09129719e+01,  6.14455958e+01,\n",
       "       -2.42767434e+01,  5.62521529e+01, -4.31779617e+01, -6.03044764e+01,\n",
       "        4.16609236e+01,  8.01294485e+01,  4.24175106e+01,  2.37052684e+01,\n",
       "       -5.62114209e+01, -5.52540138e+01, -7.40909959e+01, -2.99695003e+00,\n",
       "        2.69537390e+01,  7.90345011e+01,  7.39101939e+01,  6.68806793e+01,\n",
       "       -8.84386034e+01, -7.39069703e+01,  6.22383004e+01, -7.89997190e+01,\n",
       "       -6.46970061e+01, -8.21869967e+00, -4.00947502e+01,  6.77363718e+01,\n",
       "        5.44778539e+01,  3.93806249e+01,  3.43504146e+01, -7.38420004e+00,\n",
       "       -4.61468150e+01,  4.40507459e+01, -2.55957100e+01,  7.40475593e+01,\n",
       "       -5.38257907e+01, -8.11007480e+01])"
      ]
     },
     "execution_count": 15,
     "metadata": {},
     "output_type": "execute_result"
    }
   ],
   "source": [
    "np.random.uniform(-90.000, 90.000, size=50)"
   ]
  },
  {
   "cell_type": "code",
   "execution_count": 17,
   "id": "7b47647c",
   "metadata": {},
   "outputs": [
    {
     "name": "stdout",
     "output_type": "stream",
     "text": [
      "12.6 µs ± 3.76 ns per loop (mean ± std. dev. of 7 runs, 100000 loops each)\n"
     ]
    }
   ],
   "source": [
    "%timeit np.random.uniform(-90.000, 90.000, size=1500)"
   ]
  },
  {
   "cell_type": "code",
   "execution_count": 18,
   "id": "4a20592e",
   "metadata": {},
   "outputs": [
    {
     "name": "stdout",
     "output_type": "stream",
     "text": [
      "1.42 ms ± 1.56 µs per loop (mean ± std. dev. of 7 runs, 1000 loops each)\n"
     ]
    }
   ],
   "source": [
    "def latitudes(size):\n",
    "    latitudes = []\n",
    "    x = 0\n",
    "    while x < (size):\n",
    "        random_lat = random.randint(-90, 90) + random.random()\n",
    "        latitudes.append(random_lat)\n",
    "        x += 1\n",
    "    return latitudes\n",
    "# Call the function with 1500.\n",
    "%timeit latitudes(1500)"
   ]
  },
  {
   "cell_type": "code",
   "execution_count": null,
   "id": "a938a36b",
   "metadata": {},
   "outputs": [],
   "source": []
  }
 ],
 "metadata": {
  "kernelspec": {
   "display_name": "PythonData",
   "language": "python",
   "name": "pythondata"
  },
  "language_info": {
   "codemirror_mode": {
    "name": "ipython",
    "version": 3
   },
   "file_extension": ".py",
   "mimetype": "text/x-python",
   "name": "python",
   "nbconvert_exporter": "python",
   "pygments_lexer": "ipython3",
   "version": "3.7.11"
  }
 },
 "nbformat": 4,
 "nbformat_minor": 5
}
